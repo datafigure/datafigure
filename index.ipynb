{
  "cells": [
    {
      "cell_type": "raw",
      "metadata": {},
      "source": [
        "---\n",
        "title: \"Workshops\"\n",
        "toc: true\n",
        "toc-location: left\n",
        "toc-title: \"\"\n",
        "---"
      ],
      "id": "a8bbeb1c"
    },
    {
      "cell_type": "markdown",
      "metadata": {},
      "source": [
        "```{css, echo = FALSE}\n",
        ".column {\n",
        "  text-align: justify !important\n",
        "}\n",
        "```\n",
        "\n",
        "\n",
        ":::: {.columns}\n",
        "\n",
        "::: {.column width=\"70%\"}\n",
        "\n",
        "\n",
        "We organize workshops on programming in R, data visualization, data wrangling, corpus linguistics, machine learning, and Artificial Intelligence (including recent workshops on the impact of ChatGPT and generative AI on the education sector).<br>\n",
        "The format and level is flexible - past events have ranged from short intros to multi-day advanced seminars. Besides standalone events, venues have included summer schools, academic retreats, invited lectures, and international conferences and hackathons, so far in 5 countries across Europe.\n",
        "\n",
        "Below is a list of the types of workshops organized in the past. However, all the training events we do are customized and adapted to the audience, so the same exact event is seldom repeated twice.\n",
        "\n",
        "\n",
        "## R programming, data wrangling, data visualization\n",
        "\n",
        "Mostly been beginner-level practical workshops, often aimed at people with advanced skills in their discipline (such as humanities or social science), but little to no programming skills. A typical 1-day workshop consist of an introduction to R and basic exercises, followed by data visualization and/or wrangling exercises. Why start with dataviz? Because (1) it is an integral component of doing science anyway, and (2) it's more fun to learn programming when you can immedately see and interpret the results of your first coding attempts (and making nice plots in R is very easy and intuitive, especially with packages like ggplot2 and plotly).\n",
        "\n",
        "## Hackathons\n",
        "\n",
        "The Hackathons have been usually combined with a preceding programming intro workshop. Our job is to introduce a topic and possibly datasets, facilitate groupwork, propose and assist with technical solutions and issues.\n",
        "\n",
        "## Impact of generative Artificial Intelligence\n",
        "\n",
        "These digital skills seminar events have focused on generative AI like ChatGPT, and how these technological advances may affect education, learning and teaching now and in the near future. Overview lecture in the first half, group discussions and brainstorming in the second half.\n",
        "\n",
        "\n",
        "## Custom Workshops\n",
        "\n",
        "If our interests overlap, then we'd be happy to tailor a course, workshop or hackathon to suit the learning needs, data and interests of you or your colleagues or students. \n",
        "If you are an educational institution, then the expenses of organizing these could be potentially funded through a joint application to Erasmus+. Past workshops have also been funded by combinations of similar programmes and university travel grants, if the event involves research activities for the organizer. Feel free to get in touch to discuss options.\n",
        "\n",
        ":::\n",
        "\n",
        "::: {.column width=\"5%\"}\n",
        "<!-- empty column to create gap -->\n",
        ":::\n",
        "\n",
        "::: {.column width=\"25%\"}\n",
        "\n",
        "![](img/0.jpg)\n",
        "\n",
        "![](img/1.jpg)\n",
        "\n",
        "![](img/2.jpg)\n",
        "\n",
        ":::\n",
        "\n",
        "::::\n"
      ],
      "id": "5330472e"
    }
  ],
  "metadata": {
    "kernelspec": {
      "name": "python3",
      "language": "python",
      "display_name": "Python 3"
    }
  },
  "nbformat": 4,
  "nbformat_minor": 5
}